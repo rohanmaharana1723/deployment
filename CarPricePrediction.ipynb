{
 "cells": [
  {
   "cell_type": "code",
   "execution_count": 1,
   "id": "f9dc3316-7e7a-4ab4-81ef-2c71abd0aeb2",
   "metadata": {},
   "outputs": [
    {
     "name": "stdout",
     "output_type": "stream",
     "text": [
      "Predicted Car Price: $ 86554.42\n"
     ]
    }
   ],
   "source": [
    "# Load saved model, encoder, and scaler\n",
    "import pickle\n",
    "import pandas as pd\n",
    "import numpy as np\n",
    "import warnings\n",
    "warnings.filterwarnings(\"ignore\")\n",
    "model = pickle.load(open(\"model.pkl\", \"rb\"))\n",
    "encoder = pickle.load(open(\"encoder.pkl\", \"rb\"))\n",
    "scaler = pickle.load(open(\"scaler.pkl\", \"rb\"))\n",
    "\n",
    "def predict_car_price(symboling, normalized_losses, make, fuel_type, body_style,\n",
    "                      drive_wheels, engine_location, width, height, engine_type,\n",
    "                      engine_size, horsepower, city_mpg, highway_mpg):\n",
    "    \"\"\"\n",
    "    Predicts the car price based on input features.\n",
    "\n",
    "    Parameters:\n",
    "    - fuel_type (str): e.g., 'gas' or 'diesel'\n",
    "    - make (str): e.g., 'toyota', 'honda', etc.\n",
    "    - engine_size (float)\n",
    "    - horsepower (float)\n",
    "    - width (float)\n",
    "    - normalized_losses (float)\n",
    "\n",
    "    Returns:\n",
    "    - Predicted price (float)\n",
    "    \"\"\"\n",
    "    # Prepare the input DataFrame\n",
    "    input_data = pd.DataFrame({\n",
    "        'symboling': [symboling],\n",
    "        'normalized-losses': [normalized_losses],\n",
    "        'make': [make],\n",
    "        'fuel-type': [fuel_type],\n",
    "        'body-style': [body_style],\n",
    "        'drive-wheels': [drive_wheels],\n",
    "        'engine-location': [engine_location],\n",
    "        'width': [width],\n",
    "        'height': [height],\n",
    "        'engine-type': [engine_type],\n",
    "        'engine-size': [engine_size],\n",
    "        'horsepower': [horsepower],\n",
    "        'city-mpg': [city_mpg],\n",
    "        'highway-mpg': [highway_mpg]\n",
    "    })\n",
    "\n",
    "    # Define the columns to be encoded (in the order expected by the encoder)\n",
    "    categorical_cols = ['make', 'fuel-type', 'body-style', 'drive-wheels', 'engine-location', 'engine-type']\n",
    "\n",
    "    # Apply encoding to categorical features, ensuring correct order\n",
    "    input_data[categorical_cols] = encoder.transform(input_data[categorical_cols])\n",
    "\n",
    "    # Apply scaling\n",
    "    input_scaled = scaler.transform(input_data)\n",
    "\n",
    "    # Make prediction\n",
    "    predicted_price = model.predict(input_scaled)[0]\n",
    "\n",
    "    return round(predicted_price, 2)\n",
    "\n",
    "# 2\t164\taudi\tgas\tsedan\tfwd\tfront\t66.2\t54.3\tohc\t109\t102\t24\t30\t13950\n",
    "price = predict_car_price(\n",
    "\n",
    "    symboling=2,\n",
    "    normalized_losses=164,\n",
    "    make=\"bmw\",\n",
    "    fuel_type=\"diesel\",\n",
    "    body_style=\"sedan\",\n",
    "    drive_wheels=\"fwd\",\n",
    "    engine_location=\"front\",\n",
    "    width=66.2,\n",
    "    height=54.3,\n",
    "    engine_type=\"ohc\",\n",
    "    engine_size=119,\n",
    "    horsepower=102,\n",
    "    city_mpg=24,\n",
    "    highway_mpg=30\n",
    ")\n",
    "\n",
    "print(\"Predicted Car Price: $\", price)"
   ]
  },
  {
   "cell_type": "code",
   "execution_count": null,
   "id": "ce70155f-06dc-4783-aa0c-35c45f8929fe",
   "metadata": {},
   "outputs": [],
   "source": []
  }
 ],
 "metadata": {
  "kernelspec": {
   "display_name": "Python 3 (ipykernel)",
   "language": "python",
   "name": "python3"
  },
  "language_info": {
   "codemirror_mode": {
    "name": "ipython",
    "version": 3
   },
   "file_extension": ".py",
   "mimetype": "text/x-python",
   "name": "python",
   "nbconvert_exporter": "python",
   "pygments_lexer": "ipython3",
   "version": "3.12.7"
  }
 },
 "nbformat": 4,
 "nbformat_minor": 5
}
